{
 "cells": [
  {
   "cell_type": "code",
   "execution_count": 1,
   "id": "d2e225cb-192a-4606-9ae2-4787fce0cb9e",
   "metadata": {},
   "outputs": [
    {
     "name": "stdout",
     "output_type": "stream",
     "text": [
      "Requirement already satisfied: pandas in c:\\users\\hp elitebook\\appdata\\roaming\\python\\python312\\site-packages (2.2.3)\n",
      "Requirement already satisfied: scikit-learn in c:\\users\\hp elitebook\\appdata\\roaming\\python\\python312\\site-packages (1.5.1)\n",
      "Requirement already satisfied: joblib in c:\\users\\hp elitebook\\appdata\\roaming\\python\\python312\\site-packages (1.4.2)\n",
      "Requirement already satisfied: numpy>=1.26.0 in c:\\users\\hp elitebook\\appdata\\roaming\\python\\python312\\site-packages (from pandas) (1.26.4)\n",
      "Requirement already satisfied: python-dateutil>=2.8.2 in c:\\users\\hp elitebook\\appdata\\roaming\\python\\python312\\site-packages (from pandas) (2.9.0.post0)\n",
      "Requirement already satisfied: pytz>=2020.1 in c:\\users\\hp elitebook\\appdata\\roaming\\python\\python312\\site-packages (from pandas) (2024.1)\n",
      "Requirement already satisfied: tzdata>=2022.7 in c:\\users\\hp elitebook\\appdata\\roaming\\python\\python312\\site-packages (from pandas) (2024.1)\n",
      "Requirement already satisfied: scipy>=1.6.0 in c:\\users\\hp elitebook\\appdata\\roaming\\python\\python312\\site-packages (from scikit-learn) (1.14.0)\n",
      "Requirement already satisfied: threadpoolctl>=3.1.0 in c:\\users\\hp elitebook\\appdata\\roaming\\python\\python312\\site-packages (from scikit-learn) (3.5.0)\n",
      "Requirement already satisfied: six>=1.5 in c:\\users\\hp elitebook\\appdata\\roaming\\python\\python312\\site-packages (from python-dateutil>=2.8.2->pandas) (1.16.0)\n"
     ]
    },
    {
     "name": "stderr",
     "output_type": "stream",
     "text": [
      "\n",
      "[notice] A new release of pip is available: 24.2 -> 25.1.1\n",
      "[notice] To update, run: python.exe -m pip install --upgrade pip\n"
     ]
    }
   ],
   "source": [
    "!pip install pandas scikit-learn joblib\n"
   ]
  },
  {
   "cell_type": "markdown",
   "id": "6b09d1c8-724f-40f2-8b08-14307c8c525a",
   "metadata": {},
   "source": [
    "## Load the Telco Churn Dataset"
   ]
  },
  {
   "cell_type": "code",
   "execution_count": 83,
   "id": "3ca039d3-36d3-4920-9db8-28dc175b73d0",
   "metadata": {},
   "outputs": [],
   "source": [
    "import pandas as pd\n",
    "\n",
    "# Load dataset\n",
    "df = pd.read_csv(\"Telco-Customer-Churn.csv\")\n",
    "\n",
    "# Drop customerID (not useful)\n",
    "df.drop(\"customerID\", axis=1, inplace=True)\n",
    "\n",
    "# Convert target to binary\n",
    "df[\"Churn\"] = df[\"Churn\"].map({\"Yes\": 1, \"No\": 0})\n"
   ]
  },
  {
   "cell_type": "code",
   "execution_count": 85,
   "id": "575e8b9d-0e41-4af0-81fc-efc74253f071",
   "metadata": {},
   "outputs": [
    {
     "name": "stdout",
     "output_type": "stream",
     "text": [
      "      gender  SeniorCitizen Partner Dependents  tenure PhoneService  \\\n",
      "0     Female              0     Yes         No       1           No   \n",
      "1       Male              0      No         No      34          Yes   \n",
      "2       Male              0      No         No       2          Yes   \n",
      "3       Male              0      No         No      45           No   \n",
      "4     Female              0      No         No       2          Yes   \n",
      "...      ...            ...     ...        ...     ...          ...   \n",
      "7038    Male              0     Yes        Yes      24          Yes   \n",
      "7039  Female              0     Yes        Yes      72          Yes   \n",
      "7040  Female              0     Yes        Yes      11           No   \n",
      "7041    Male              1     Yes         No       4          Yes   \n",
      "7042    Male              0      No         No      66          Yes   \n",
      "\n",
      "         MultipleLines InternetService OnlineSecurity OnlineBackup  \\\n",
      "0     No phone service             DSL             No          Yes   \n",
      "1                   No             DSL            Yes           No   \n",
      "2                   No             DSL            Yes          Yes   \n",
      "3     No phone service             DSL            Yes           No   \n",
      "4                   No     Fiber optic             No           No   \n",
      "...                ...             ...            ...          ...   \n",
      "7038               Yes             DSL            Yes           No   \n",
      "7039               Yes     Fiber optic             No          Yes   \n",
      "7040  No phone service             DSL            Yes           No   \n",
      "7041               Yes     Fiber optic             No           No   \n",
      "7042                No     Fiber optic            Yes           No   \n",
      "\n",
      "     DeviceProtection TechSupport StreamingTV StreamingMovies        Contract  \\\n",
      "0                  No          No          No              No  Month-to-month   \n",
      "1                 Yes          No          No              No        One year   \n",
      "2                  No          No          No              No  Month-to-month   \n",
      "3                 Yes         Yes          No              No        One year   \n",
      "4                  No          No          No              No  Month-to-month   \n",
      "...               ...         ...         ...             ...             ...   \n",
      "7038              Yes         Yes         Yes             Yes        One year   \n",
      "7039              Yes          No         Yes             Yes        One year   \n",
      "7040               No          No          No              No  Month-to-month   \n",
      "7041               No          No          No              No  Month-to-month   \n",
      "7042              Yes         Yes         Yes             Yes        Two year   \n",
      "\n",
      "     PaperlessBilling              PaymentMethod  MonthlyCharges TotalCharges  \\\n",
      "0                 Yes           Electronic check           29.85        29.85   \n",
      "1                  No               Mailed check           56.95       1889.5   \n",
      "2                 Yes               Mailed check           53.85       108.15   \n",
      "3                  No  Bank transfer (automatic)           42.30      1840.75   \n",
      "4                 Yes           Electronic check           70.70       151.65   \n",
      "...               ...                        ...             ...          ...   \n",
      "7038              Yes               Mailed check           84.80       1990.5   \n",
      "7039              Yes    Credit card (automatic)          103.20       7362.9   \n",
      "7040              Yes           Electronic check           29.60       346.45   \n",
      "7041              Yes               Mailed check           74.40        306.6   \n",
      "7042              Yes  Bank transfer (automatic)          105.65       6844.5   \n",
      "\n",
      "      Churn  \n",
      "0         0  \n",
      "1         0  \n",
      "2         1  \n",
      "3         0  \n",
      "4         1  \n",
      "...     ...  \n",
      "7038      0  \n",
      "7039      0  \n",
      "7040      0  \n",
      "7041      1  \n",
      "7042      0  \n",
      "\n",
      "[7043 rows x 20 columns]\n"
     ]
    }
   ],
   "source": [
    "print ( df )"
   ]
  },
  {
   "cell_type": "markdown",
   "id": "fe59ab3e-1d20-4478-a85f-1a503a952901",
   "metadata": {},
   "source": [
    "## Data Preprocessing"
   ]
  },
  {
   "cell_type": "code",
   "execution_count": 88,
   "id": "eb5edaaf-04f7-423d-8417-8fedbcf48d9f",
   "metadata": {},
   "outputs": [],
   "source": [
    "X = df.drop(\"Churn\", axis=1)\n",
    "y = df[\"Churn\"]\n"
   ]
  },
  {
   "cell_type": "code",
   "execution_count": 90,
   "id": "29687761-fbfa-4c2c-92fc-0c61b034082e",
   "metadata": {},
   "outputs": [
    {
     "name": "stdout",
     "output_type": "stream",
     "text": [
      "Numerical: ['SeniorCitizen', 'tenure', 'MonthlyCharges']\n",
      "Categorical: ['gender', 'Partner', 'Dependents', 'PhoneService', 'MultipleLines', 'InternetService', 'OnlineSecurity', 'OnlineBackup', 'DeviceProtection', 'TechSupport', 'StreamingTV', 'StreamingMovies', 'Contract', 'PaperlessBilling', 'PaymentMethod', 'TotalCharges']\n"
     ]
    }
   ],
   "source": [
    "# Columns\n",
    "num_cols = X.select_dtypes(include=[\"int64\", \"float64\"]).columns.tolist()\n",
    "cat_cols = X.select_dtypes(include=[\"object\"]).columns.tolist()\n",
    "\n",
    "print(\"Numerical:\", num_cols)\n",
    "print(\"Categorical:\", cat_cols)\n"
   ]
  },
  {
   "cell_type": "markdown",
   "id": "3a7643a9-db3e-4424-9699-15f39b406bd1",
   "metadata": {},
   "source": [
    "## Build the ML Pipeline"
   ]
  },
  {
   "cell_type": "code",
   "execution_count": 24,
   "id": "00a828c9-a706-4620-8ae1-2e13c8c343a3",
   "metadata": {},
   "outputs": [],
   "source": [
    "from sklearn.pipeline import Pipeline\n",
    "from sklearn.compose import ColumnTransformer\n",
    "from sklearn.preprocessing import StandardScaler, OneHotEncoder\n",
    "from sklearn.ensemble import RandomForestClassifier\n",
    "from sklearn.linear_model import LogisticRegression\n",
    "from sklearn.model_selection import train_test_split, GridSearchCV\n",
    "from sklearn.metrics import classification_report\n"
   ]
  },
  {
   "cell_type": "markdown",
   "id": "019bcf64-f72b-4019-9d1e-3435b70ff93b",
   "metadata": {},
   "source": [
    "##  Preprocessing blocks"
   ]
  },
  {
   "cell_type": "code",
   "execution_count": 92,
   "id": "a20cff08-995d-4a15-88a2-dbc818f909c7",
   "metadata": {},
   "outputs": [],
   "source": [
    "# Numerical transformer\n",
    "num_transformer = Pipeline(steps=[\n",
    "    ('scaler', StandardScaler())\n",
    "])\n",
    "\n",
    "# Categorical transformer\n",
    "cat_transformer = Pipeline(steps=[\n",
    "    ('encoder', OneHotEncoder(handle_unknown='ignore'))\n",
    "])\n",
    "\n",
    "# Full preprocessing\n",
    "preprocessor = ColumnTransformer(transformers=[\n",
    "    ('num', num_transformer, num_cols),\n",
    "    ('cat', cat_transformer, cat_cols)\n",
    "])\n"
   ]
  },
  {
   "cell_type": "markdown",
   "id": "285d5083-9ade-4617-bf94-3e55dc005950",
   "metadata": {},
   "source": [
    "## Build Full Pipeline with Model"
   ]
  },
  {
   "cell_type": "code",
   "execution_count": 96,
   "id": "e097470a-4f5e-4188-9f5f-ce8b3b4f0890",
   "metadata": {},
   "outputs": [],
   "source": [
    "# clf = Pipeline(steps=[\n",
    "#     ('preprocessor', preprocessor),\n",
    "#     ('classifier', LogisticRegression(solver='liblinear'))\n",
    "# ])\n",
    "\n",
    "from sklearn.ensemble import RandomForestClassifier\n",
    "\n",
    "clf = Pipeline(steps=[\n",
    "    ('preprocessor', preprocessor),\n",
    "    ('classifier', RandomForestClassifier(class_weight='balanced', random_state=42))\n",
    "])\n"
   ]
  },
  {
   "cell_type": "markdown",
   "id": "8aa77157-5fa0-4fd8-877a-e6035b112f15",
   "metadata": {},
   "source": [
    "## Train/Test Split & Train\n"
   ]
  },
  {
   "cell_type": "code",
   "execution_count": 98,
   "id": "c7f5bb23-49e7-464a-9ace-3f03a1a53683",
   "metadata": {},
   "outputs": [
    {
     "name": "stdout",
     "output_type": "stream",
     "text": [
      "              precision    recall  f1-score   support\n",
      "\n",
      "           0       0.83      0.91      0.87      1036\n",
      "           1       0.66      0.50      0.57       373\n",
      "\n",
      "    accuracy                           0.80      1409\n",
      "   macro avg       0.75      0.70      0.72      1409\n",
      "weighted avg       0.79      0.80      0.79      1409\n",
      "\n"
     ]
    }
   ],
   "source": [
    "\n",
    "X_train, X_test, y_train, y_test = train_test_split(X, y, test_size=0.2, random_state=42)\n",
    "\n",
    "clf.fit(X_train, y_train)\n",
    "y_pred = clf.predict(X_test)\n",
    "\n",
    "print(classification_report(y_test, y_pred))"
   ]
  },
  {
   "cell_type": "markdown",
   "id": "da028f0d-176c-4f19-9fe2-4f232f488af6",
   "metadata": {},
   "source": [
    "## Try Random Forest + GridSearchCV"
   ]
  },
  {
   "cell_type": "code",
   "execution_count": 100,
   "id": "51dbe43b-228c-4dd5-a634-ec03a4a82bf6",
   "metadata": {},
   "outputs": [
    {
     "name": "stdout",
     "output_type": "stream",
     "text": [
      "Best Parameters: {'classifier__max_depth': None, 'classifier__min_samples_split': 5, 'classifier__n_estimators': 100}\n",
      "              precision    recall  f1-score   support\n",
      "\n",
      "           0       0.87      0.85      0.86      1036\n",
      "           1       0.61      0.66      0.63       373\n",
      "\n",
      "    accuracy                           0.80      1409\n",
      "   macro avg       0.74      0.75      0.75      1409\n",
      "weighted avg       0.80      0.80      0.80      1409\n",
      "\n"
     ]
    }
   ],
   "source": [
    "# pipe = Pipeline([\n",
    "#     ('preprocessor', preprocessor),\n",
    "#     ('classifier', RandomForestClassifier(random_state=42))\n",
    "# ])\n",
    "\n",
    "## trying something to increse the accuracy \n",
    "## class_weight='balanced' in RandomForestClassifier is a simple yet powerful trick to help improve performance on imbalanced datasets. \n",
    "\n",
    "pipe = Pipeline([\n",
    "    ('preprocessor', preprocessor),\n",
    "    ('classifier', RandomForestClassifier(class_weight='balanced', random_state=42))\n",
    "])\n",
    "\n",
    "\n",
    "# Grid search params\n",
    "param_grid = {\n",
    "    'classifier__n_estimators': [50, 100],\n",
    "    'classifier__max_depth': [5, 10, None],\n",
    "    'classifier__min_samples_split': [2, 5]\n",
    "}\n",
    "\n",
    "# Grid search\n",
    "grid_search = GridSearchCV(pipe, param_grid, cv=3, scoring='f1', n_jobs=-1)\n",
    "\n",
    "\n",
    "grid_search.fit(X_train, y_train)\n",
    "y_pred = grid_search.predict(X_test)\n",
    "\n",
    "print(\"Best Parameters:\", grid_search.best_params_)\n",
    "print(classification_report(y_test, y_pred))\n",
    "\n",
    "\n",
    "\n",
    "\n"
   ]
  },
  {
   "cell_type": "markdown",
   "id": "d920c2f5-4f84-4416-84dd-bc0161695a2f",
   "metadata": {},
   "source": [
    "## Export Pipeline using joblib "
   ]
  },
  {
   "cell_type": "code",
   "execution_count": 102,
   "id": "3d75a628-242d-4872-83c4-bd9f06dc9a08",
   "metadata": {},
   "outputs": [
    {
     "data": {
      "text/plain": [
       "['churn_pipeline.pkl']"
      ]
     },
     "execution_count": 102,
     "metadata": {},
     "output_type": "execute_result"
    }
   ],
   "source": [
    "import joblib\n",
    "\n",
    "# Export model\n",
    "joblib.dump(grid_search.best_estimator_, \"churn_pipeline.pkl\")\n"
   ]
  },
  {
   "cell_type": "code",
   "execution_count": null,
   "id": "ac265d6d-a7ff-4371-aba1-61c9c4bede65",
   "metadata": {},
   "outputs": [],
   "source": []
  },
  {
   "cell_type": "code",
   "execution_count": 105,
   "id": "c58c2094-da7d-4ef9-9795-1fcfad99878f",
   "metadata": {},
   "outputs": [
    {
     "name": "stdout",
     "output_type": "stream",
     "text": [
      "Customer will churn? No\n"
     ]
    }
   ],
   "source": [
    "model = joblib.load(\"churn_pipeline.pkl\")\n",
    "\n",
    "import pandas as pd\n",
    "\n",
    "# Predict on a single row (as DataFrame)\n",
    "single_row = X.iloc[[0]] \n",
    "prediction = model.predict(single_row)\n",
    "\n",
    "# print(\"Prediction:\", prediction)\n",
    "label = \"Yes\" if prediction[0] == 1 else \"No\"\n",
    "print(\"Customer will churn?\", label)\n"
   ]
  },
  {
   "cell_type": "code",
   "execution_count": null,
   "id": "8ed6c455-3698-475e-bc3c-84fd306e21f9",
   "metadata": {},
   "outputs": [],
   "source": []
  },
  {
   "cell_type": "markdown",
   "id": "2d136ee2-0983-498d-a41b-d4b678440434",
   "metadata": {},
   "source": [
    "## Summary "
   ]
  },
  {
   "cell_type": "markdown",
   "id": "acd7ee55-a1b4-4dac-82b8-9a9ac35c1622",
   "metadata": {},
   "source": [
    "| Concept        | Tool/Technique Used                  | Purpose                                  |\n",
    "| -------------- | ------------------------------------ | ---------------------------------------- |\n",
    "| Data Cleaning  | Pandas                               | Remove ID column, map \"Yes/No\" to 1/0    |\n",
    "| Preprocessing  | `StandardScaler`, `OneHotEncoder`    | Prepare data for ML models               |\n",
    "| Pipeline       | `Pipeline()` & `ColumnTransformer()` | Wrap entire process into reusable object |\n",
    "| Classification | `LogisticRegression`, `RandomForest` | Predict churn outcome                    |\n",
    "| Tuning         | `GridSearchCV()`                     | Try multiple model configurations        |\n",
    "| Exporting      | `joblib.dump()`                      | Save trained pipeline                    |\n",
    "| Predicting     | `model.predict(df)`                  | Reuse pipeline on new data               |\n"
   ]
  },
  {
   "cell_type": "code",
   "execution_count": null,
   "id": "6dd07c63-f9d6-4bdd-847d-8e821ab4a0a1",
   "metadata": {},
   "outputs": [],
   "source": []
  }
 ],
 "metadata": {
  "kernelspec": {
   "display_name": "Python 3 (ipykernel)",
   "language": "python",
   "name": "python3"
  },
  "language_info": {
   "codemirror_mode": {
    "name": "ipython",
    "version": 3
   },
   "file_extension": ".py",
   "mimetype": "text/x-python",
   "name": "python",
   "nbconvert_exporter": "python",
   "pygments_lexer": "ipython3",
   "version": "3.12.4"
  }
 },
 "nbformat": 4,
 "nbformat_minor": 5
}
