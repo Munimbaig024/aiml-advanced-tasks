{
 "cells": [
  {
   "cell_type": "markdown",
   "id": "ba445c45-260f-43c9-b80b-0c693bafbaee",
   "metadata": {},
   "source": [
    "## Load and Clean Data"
   ]
  },
  {
   "cell_type": "code",
   "execution_count": 3,
   "id": "8e0cea2f-3b75-4df3-a842-472ab312e2c8",
   "metadata": {},
   "outputs": [
    {
     "name": "stdout",
     "output_type": "stream",
     "text": [
      "Total Tickets: 8469\n",
      "Unique Tags (Ticket Types): 5\n",
      "\n",
      "Sample Ticket:\n",
      "\n",
      "Ticket ID                                                             1\n",
      "Ticket Type                                             Technical issue\n",
      "Ticket Description    I'm having an issue with the {product_purchase...\n",
      "Name: 0, dtype: object\n"
     ]
    }
   ],
   "source": [
    "# Import required libraries\n",
    "import pandas as pd\n",
    "\n",
    "# Load the dataset\n",
    "file_path = \"customer_support_tickets.csv\"  # If in same directory\n",
    "df = pd.read_csv(file_path)\n",
    "\n",
    "\n",
    "# Keep only the columns we care about\n",
    "df = df[['Ticket ID', 'Ticket Type', 'Ticket Description']]\n",
    "\n",
    "# Drop rows with missing values in essential columns\n",
    "df = df.dropna(subset=['Ticket Type', 'Ticket Description'])\n",
    "\n",
    "# Remove duplicates (if any)\n",
    "df = df.drop_duplicates()\n",
    "\n",
    "# Reset index\n",
    "df = df.reset_index(drop=True)\n",
    "\n",
    "\n",
    "print(\"Total Tickets:\", len(df))\n",
    "print(\"Unique Tags (Ticket Types):\", df['Ticket Type'].nunique())\n",
    "print(\"\\nSample Ticket:\\n\")\n",
    "print(df.iloc[0])\n"
   ]
  },
  {
   "cell_type": "markdown",
   "id": "011fbc79-d7d6-4de3-8d9e-3c8bead2e6f4",
   "metadata": {},
   "source": [
    "##  Zero-Shot LLM Classification"
   ]
  },
  {
   "cell_type": "code",
   "execution_count": 5,
   "id": "ec77d22f-94e3-4c97-8e0b-4b9b6b63e9a0",
   "metadata": {},
   "outputs": [
    {
     "name": "stdout",
     "output_type": "stream",
     "text": [
      "WARNING:tensorflow:From C:\\Users\\Hp EliteBook\\AppData\\Roaming\\Python\\Python312\\site-packages\\tf_keras\\src\\losses.py:2976: The name tf.losses.sparse_softmax_cross_entropy is deprecated. Please use tf.compat.v1.losses.sparse_softmax_cross_entropy instead.\n",
      "\n"
     ]
    },
    {
     "name": "stderr",
     "output_type": "stream",
     "text": [
      "C:\\Users\\Hp EliteBook\\AppData\\Roaming\\Python\\Python312\\site-packages\\transformers\\tokenization_utils_base.py:1601: FutureWarning: `clean_up_tokenization_spaces` was not set. It will be set to `True` by default. This behavior will be depracted in transformers v4.45, and will be then set to `False` by default. For more details check this issue: https://github.com/huggingface/transformers/issues/31884\n",
      "  warnings.warn(\n"
     ]
    },
    {
     "data": {
      "text/html": [
       "<div>\n",
       "<style scoped>\n",
       "    .dataframe tbody tr th:only-of-type {\n",
       "        vertical-align: middle;\n",
       "    }\n",
       "\n",
       "    .dataframe tbody tr th {\n",
       "        vertical-align: top;\n",
       "    }\n",
       "\n",
       "    .dataframe thead th {\n",
       "        text-align: right;\n",
       "    }\n",
       "</style>\n",
       "<table border=\"1\" class=\"dataframe\">\n",
       "  <thead>\n",
       "    <tr style=\"text-align: right;\">\n",
       "      <th></th>\n",
       "      <th>Ticket</th>\n",
       "      <th>Actual Tag</th>\n",
       "      <th>Top 3 Predicted Tags</th>\n",
       "    </tr>\n",
       "  </thead>\n",
       "  <tbody>\n",
       "    <tr>\n",
       "      <th>0</th>\n",
       "      <td>I'm having an issue with the {product_purchase...</td>\n",
       "      <td>Technical issue</td>\n",
       "      <td>[(Technical issue, 0.8724848031997681), (Billi...</td>\n",
       "    </tr>\n",
       "    <tr>\n",
       "      <th>1</th>\n",
       "      <td>I'm having an issue with the {product_purchase...</td>\n",
       "      <td>Technical issue</td>\n",
       "      <td>[(Product inquiry, 0.9132856130599976), (Techn...</td>\n",
       "    </tr>\n",
       "    <tr>\n",
       "      <th>2</th>\n",
       "      <td>I'm facing a problem with my {product_purchase...</td>\n",
       "      <td>Technical issue</td>\n",
       "      <td>[(Product inquiry, 0.8779209852218628), (Techn...</td>\n",
       "    </tr>\n",
       "    <tr>\n",
       "      <th>3</th>\n",
       "      <td>I'm having an issue with the {product_purchase...</td>\n",
       "      <td>Billing inquiry</td>\n",
       "      <td>[(Product inquiry, 0.7847293019294739), (Techn...</td>\n",
       "    </tr>\n",
       "    <tr>\n",
       "      <th>4</th>\n",
       "      <td>I'm having an issue with the {product_purchase...</td>\n",
       "      <td>Billing inquiry</td>\n",
       "      <td>[(Product inquiry, 0.9413691163063049), (Techn...</td>\n",
       "    </tr>\n",
       "  </tbody>\n",
       "</table>\n",
       "</div>"
      ],
      "text/plain": [
       "                                              Ticket       Actual Tag  \\\n",
       "0  I'm having an issue with the {product_purchase...  Technical issue   \n",
       "1  I'm having an issue with the {product_purchase...  Technical issue   \n",
       "2  I'm facing a problem with my {product_purchase...  Technical issue   \n",
       "3  I'm having an issue with the {product_purchase...  Billing inquiry   \n",
       "4  I'm having an issue with the {product_purchase...  Billing inquiry   \n",
       "\n",
       "                                Top 3 Predicted Tags  \n",
       "0  [(Technical issue, 0.8724848031997681), (Billi...  \n",
       "1  [(Product inquiry, 0.9132856130599976), (Techn...  \n",
       "2  [(Product inquiry, 0.8779209852218628), (Techn...  \n",
       "3  [(Product inquiry, 0.7847293019294739), (Techn...  \n",
       "4  [(Product inquiry, 0.9413691163063049), (Techn...  "
      ]
     },
     "execution_count": 5,
     "metadata": {},
     "output_type": "execute_result"
    }
   ],
   "source": [
    "from transformers import pipeline\n",
    "\n",
    "# Load model\n",
    "classifier = pipeline(\"zero-shot-classification\", model=\"facebook/bart-large-mnli\")\n",
    "\n",
    "# Get unique ticket types (tags)\n",
    "candidate_labels = df[\"Ticket Type\"].unique().tolist()\n",
    "\n",
    "# Classify a small sample (e.g. first 5 tickets)\n",
    "results = []\n",
    "for _, row in df.head(5).iterrows():\n",
    "    description = row[\"Ticket Description\"]\n",
    "    actual_tag = row[\"Ticket Type\"]\n",
    "    \n",
    "    prediction = classifier(description, candidate_labels, multi_label=True)\n",
    "    top3 = sorted(zip(prediction['labels'], prediction['scores']), key=lambda x: -x[1])[:3]\n",
    "    \n",
    "    results.append({\n",
    "        \"Ticket\": description[:150] + \"...\",  # shorten for display\n",
    "        \"Actual Tag\": actual_tag,\n",
    "        \"Top 3 Predicted Tags\": top3\n",
    "    })\n",
    "\n",
    "# Convert results to DataFrame\n",
    "pd.DataFrame(results)\n"
   ]
  },
  {
   "cell_type": "code",
   "execution_count": null,
   "id": "eb069fb7-1881-48ce-8cd1-ae77ba387c9c",
   "metadata": {},
   "outputs": [],
   "source": []
  },
  {
   "cell_type": "code",
   "execution_count": 10,
   "id": "f15bfc3f-a8dc-4525-8508-00f8636c9979",
   "metadata": {},
   "outputs": [
    {
     "name": "stderr",
     "output_type": "stream",
     "text": [
      "\n",
      "[notice] A new release of pip is available: 24.2 -> 25.1.1\n",
      "[notice] To update, run: python.exe -m pip install --upgrade pip\n"
     ]
    }
   ],
   "source": [
    "# !pip install -q transformers\n"
   ]
  },
  {
   "cell_type": "markdown",
   "id": "62697c16-4591-4b86-9df0-f79bb9d95839",
   "metadata": {},
   "source": [
    "##  Load flan-t5-base (small and CPU-optimized)"
   ]
  },
  {
   "cell_type": "code",
   "execution_count": 7,
   "id": "ef8250d1-78cf-4f12-9beb-9b6faef78bd2",
   "metadata": {},
   "outputs": [
    {
     "name": "stderr",
     "output_type": "stream",
     "text": [
      "\n",
      "[notice] A new release of pip is available: 24.2 -> 25.1.1\n",
      "[notice] To update, run: python.exe -m pip install --upgrade pip\n",
      "C:\\Users\\Hp EliteBook\\AppData\\Roaming\\Python\\Python312\\site-packages\\transformers\\tokenization_utils_base.py:1601: FutureWarning: `clean_up_tokenization_spaces` was not set. It will be set to `True` by default. This behavior will be depracted in transformers v4.45, and will be then set to `False` by default. For more details check this issue: https://github.com/huggingface/transformers/issues/31884\n",
      "  warnings.warn(\n"
     ]
    }
   ],
   "source": [
    "# !pip install -q transformers\n",
    "\n",
    "from transformers import AutoTokenizer, AutoModelForSeq2SeqLM\n",
    "\n",
    "model_id = \"google/flan-t5-base\"\n",
    "\n",
    "tokenizer = AutoTokenizer.from_pretrained(model_id)\n",
    "model = AutoModelForSeq2SeqLM.from_pretrained(model_id)\n"
   ]
  },
  {
   "cell_type": "markdown",
   "id": "9bb6a6fa-274c-4b6b-b799-cb36861081eb",
   "metadata": {},
   "source": [
    "## Few-Shot Prompt + Inference Code"
   ]
  },
  {
   "cell_type": "code",
   "execution_count": 14,
   "id": "c2083581-fb54-4425-a082-74ca12c055b8",
   "metadata": {},
   "outputs": [],
   "source": [
    "def classify_ticket(ticket):\n",
    "    prompt = f\"\"\"\n",
    "Classify the following support ticket into one of the following categories:\n",
    "- Account access\n",
    "- Billing inquiry\n",
    "- Technical issue\n",
    "\n",
    "Ticket: \"{ticket}\"\n",
    "Category:\"\"\"\n",
    "\n",
    "    inputs = tokenizer(prompt, return_tensors=\"pt\")\n",
    "    outputs = model.generate(**inputs, max_new_tokens=20)\n",
    "    prediction = tokenizer.decode(outputs[0], skip_special_tokens=True).strip()\n",
    "    return prediction\n"
   ]
  },
  {
   "cell_type": "markdown",
   "id": "10f5645a-8763-448c-9aee-eb9a1776e699",
   "metadata": {},
   "source": [
    "### Test on First 5 Tickets"
   ]
  },
  {
   "cell_type": "code",
   "execution_count": 16,
   "id": "524c8d03-b8a9-498b-b455-ab9ececf423b",
   "metadata": {},
   "outputs": [
    {
     "name": "stdout",
     "output_type": "stream",
     "text": [
      "\n",
      "🎫 Ticket: I'm having an issue with the {product_purchased}. Please assist.\n",
      "\n",
      "Your billing z...\n",
      "✅ Actual: Technical issue\n",
      "🤖 Predicted: Technical issue\n",
      "\n",
      "🎫 Ticket: I'm having an issue with the {product_purchased}. Please assist.\n",
      "\n",
      "If you need to...\n",
      "✅ Actual: Technical issue\n",
      "🤖 Predicted: Technical issue\n",
      "\n",
      "🎫 Ticket: I'm facing a problem with my {product_purchased}. The {product_purchased} is not...\n",
      "✅ Actual: Technical issue\n",
      "🤖 Predicted: Technical issue\n",
      "\n",
      "🎫 Ticket: I'm having an issue with the {product_purchased}. Please assist.\n",
      "\n",
      "If you have a ...\n",
      "✅ Actual: Billing inquiry\n",
      "🤖 Predicted: Technical issue\n",
      "\n",
      "🎫 Ticket: I'm having an issue with the {product_purchased}. Please assist.\n",
      "\n",
      "\n",
      "Note: The sel...\n",
      "✅ Actual: Billing inquiry\n",
      "🤖 Predicted: Technical issue\n"
     ]
    }
   ],
   "source": [
    "for i in range(5):\n",
    "    ticket = df.loc[i, 'Ticket Description']\n",
    "    actual = df.loc[i, 'Ticket Type']\n",
    "    predicted = classify_ticket(ticket)\n",
    "    \n",
    "    print(f\"\\n🎫 Ticket: {ticket[:80]}...\")\n",
    "    print(f\"✅ Actual: {actual}\")\n",
    "    print(f\"🤖 Predicted: {predicted}\")\n"
   ]
  },
  {
   "cell_type": "code",
   "execution_count": null,
   "id": "6b39d318-83f2-4e11-9fb0-b245193da8cd",
   "metadata": {},
   "outputs": [],
   "source": []
  },
  {
   "cell_type": "code",
   "execution_count": null,
   "id": "6ad3c301-f080-42f9-abfa-ae9fbd2922a5",
   "metadata": {},
   "outputs": [],
   "source": []
  },
  {
   "cell_type": "code",
   "execution_count": null,
   "id": "eeea0ca1-85f3-48f7-be39-fbdd3f20ae41",
   "metadata": {},
   "outputs": [],
   "source": []
  },
  {
   "cell_type": "code",
   "execution_count": null,
   "id": "f4c60cd8-eece-409e-a8c3-53531f5a554e",
   "metadata": {},
   "outputs": [],
   "source": []
  },
  {
   "cell_type": "code",
   "execution_count": null,
   "id": "25673430-99e5-4c2b-92b8-0ec1d3a090fe",
   "metadata": {},
   "outputs": [],
   "source": []
  },
  {
   "cell_type": "code",
   "execution_count": null,
   "id": "03ed419f-062f-41a5-a2cc-92aa3a9ecb28",
   "metadata": {},
   "outputs": [],
   "source": []
  },
  {
   "cell_type": "code",
   "execution_count": null,
   "id": "4679f039-11de-43c3-b829-57f4e980958d",
   "metadata": {},
   "outputs": [],
   "source": []
  }
 ],
 "metadata": {
  "kernelspec": {
   "display_name": "Python 3 (ipykernel)",
   "language": "python",
   "name": "python3"
  },
  "language_info": {
   "codemirror_mode": {
    "name": "ipython",
    "version": 3
   },
   "file_extension": ".py",
   "mimetype": "text/x-python",
   "name": "python",
   "nbconvert_exporter": "python",
   "pygments_lexer": "ipython3",
   "version": "3.12.4"
  }
 },
 "nbformat": 4,
 "nbformat_minor": 5
}
